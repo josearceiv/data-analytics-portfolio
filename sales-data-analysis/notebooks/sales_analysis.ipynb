# 1. Load libraries
import pandas as pd
import matplotlib.pyplot as plt
import seaborn as sns

# 2. Load your dataset
df = pd.read_csv('../data/sales_data.csv')
df.head()

# 3. Clean data (drop missing values, fix dates)
df.dropna(inplace=True)
df['Order Date'] = pd.to_datetime(df['Order Date'])

# 4. Add time column
df['Month'] = df['Order Date'].dt.to_period('M')

# 5. Basic EDA: Total sales by category
df.groupby('Category')['Sales'].sum().plot(kind='bar', title='Sales by Category')
plt.ylabel('Total Sales ($)')
plt.tight_layout()
plt.savefig('../visuals/sales_by_category.png')
plt.show()

# 6. Trend over time
monthly = df.groupby('Month')['Sales'].sum()
monthly.plot(title='Monthly Sales Trend', figsize=(10,4))
plt.tight_layout()
plt.savefig('../visuals/monthly_sales.png')
plt.show()
